{
 "cells": [
  {
   "cell_type": "code",
   "execution_count": 1,
   "metadata": {},
   "outputs": [],
   "source": [
    "import pandas as pd\n",
    "import numpy as np\n",
    "from sklearn.model_selection import train_test_split, learning_curve\n",
    "from sklearn.neural_network import MLPClassifier\n",
    "from sklearn.metrics import classification_report, accuracy_score\n",
    "from sklearn.preprocessing import LabelEncoder\n",
    "from sklearn.preprocessing import MinMaxScaler\n",
    "from sklearn.model_selection import GridSearchCV\n",
    "import matplotlib.pyplot as plt"
   ]
  },
  {
   "cell_type": "code",
   "execution_count": 2,
   "metadata": {},
   "outputs": [
    {
     "name": "stderr",
     "output_type": "stream",
     "text": [
      "c:\\Users\\syeda\\OneDrive\\Documents\\American Bureau of Shipping\\projects\\nlp_risk_prediction\\nlp_env\\Lib\\site-packages\\openpyxl\\worksheet\\_reader.py:329: UserWarning: Data Validation extension is not supported and will be removed\n",
      "  warn(msg)\n",
      "c:\\Users\\syeda\\OneDrive\\Documents\\American Bureau of Shipping\\projects\\nlp_risk_prediction\\nlp_env\\Lib\\site-packages\\openpyxl\\worksheet\\_reader.py:329: UserWarning: Data Validation extension is not supported and will be removed\n",
      "  warn(msg)\n"
     ]
    }
   ],
   "source": [
    "# import the excel spreadsheets in the data folder\n",
    "installer_df = pd.read_excel('../data/Installer.xlsx')\n",
    "involver_df = pd.read_excel('../data/Involver.xlsx')"
   ]
  },
  {
   "cell_type": "code",
   "execution_count": 3,
   "metadata": {},
   "outputs": [
    {
     "data": {
      "text/plain": [
       "(32192, 49)"
      ]
     },
     "execution_count": 3,
     "metadata": {},
     "output_type": "execute_result"
    }
   ],
   "source": [
    "installer_df.shape"
   ]
  },
  {
   "cell_type": "code",
   "execution_count": 4,
   "metadata": {},
   "outputs": [
    {
     "data": {
      "text/plain": [
       "(31935, 49)"
      ]
     },
     "execution_count": 4,
     "metadata": {},
     "output_type": "execute_result"
    }
   ],
   "source": [
    "involver_df.shape"
   ]
  },
  {
   "cell_type": "code",
   "execution_count": 5,
   "metadata": {},
   "outputs": [
    {
     "data": {
      "text/plain": [
       "(['Site',\n",
       "  'Vessel_Name',\n",
       "  'Wo_No',\n",
       "  'Fault_Rep_Flag',\n",
       "  'Pm_No',\n",
       "  'Cf$_Pm_Interval',\n",
       "  'Standard_Job',\n",
       "  'Creation_Date',\n",
       "  'Due_Date',\n",
       "  'Actual_Finish',\n",
       "  'Object_Id',\n",
       "  'Object',\n",
       "  'Maker_Name',\n",
       "  'Group',\n",
       "  'Object_Type',\n",
       "  'Type',\n",
       "  'Criticality',\n",
       "  'Department',\n",
       "  'Work_Type',\n",
       "  'Running_Hour_Total',\n",
       "  'Symptom',\n",
       "  'Error_Cause',\n",
       "  'Cause_Details',\n",
       "  'Error_Class',\n",
       "  'Discovery',\n",
       "  'Performed_Action',\n",
       "  'Total_Hours',\n",
       "  'Total_Cost',\n",
       "  'Used_Parts',\n",
       "  'Used_Qty',\n",
       "  'Returned_Parts',\n",
       "  'Returned_Qty',\n",
       "  'CaseReviewed',\n",
       "  'EBSSelection',\n",
       "  'EBSCode',\n",
       "  'EBS1',\n",
       "  'EBS2',\n",
       "  'EBS3',\n",
       "  'EBS4',\n",
       "  'EBS5',\n",
       "  'EBS6',\n",
       "  'EBS7',\n",
       "  'DamageType',\n",
       "  'DamageDescriptor',\n",
       "  'Directive',\n",
       "  'Job_Description',\n",
       "  'Work_Description',\n",
       "  'Completion_Note',\n",
       "  'Action_Taken'],\n",
       " 49)"
      ]
     },
     "execution_count": 5,
     "metadata": {},
     "output_type": "execute_result"
    }
   ],
   "source": [
    "common_columns = installer_df.columns.intersection(involver_df.columns).tolist()\n",
    "common_columns, len(common_columns)"
   ]
  },
  {
   "cell_type": "code",
   "execution_count": 6,
   "metadata": {},
   "outputs": [],
   "source": [
    "# Attempt to merge using a subset of key columns\n",
    "merge_on_columns = ['Site', 'Vessel_Name', 'Wo_No']\n",
    "\n",
    "df = pd.concat([installer_df, involver_df], axis=0)\n"
   ]
  },
  {
   "cell_type": "code",
   "execution_count": 7,
   "metadata": {},
   "outputs": [
    {
     "data": {
      "text/plain": [
       "(64127, 49)"
      ]
     },
     "execution_count": 7,
     "metadata": {},
     "output_type": "execute_result"
    }
   ],
   "source": [
    "df.shape"
   ]
  },
  {
   "cell_type": "code",
   "execution_count": 8,
   "metadata": {},
   "outputs": [],
   "source": [
    "feature_columns = ['Group', 'Symptom', 'Error_Cause', 'Cause_Details', 'Error_Class', 'Discovery', 'Completion_Note', 'Action_Taken', 'Work_Description', 'Directive']\n",
    "target_column = 'CaseReviewed'\n",
    "\n",
    "# Filter the dataframe for the selected columns\n",
    "df_filtered = df[feature_columns + [target_column]].dropna()"
   ]
  },
  {
   "cell_type": "code",
   "execution_count": 9,
   "metadata": {},
   "outputs": [
    {
     "data": {
      "text/html": [
       "<div>\n",
       "<style scoped>\n",
       "    .dataframe tbody tr th:only-of-type {\n",
       "        vertical-align: middle;\n",
       "    }\n",
       "\n",
       "    .dataframe tbody tr th {\n",
       "        vertical-align: top;\n",
       "    }\n",
       "\n",
       "    .dataframe thead th {\n",
       "        text-align: right;\n",
       "    }\n",
       "</style>\n",
       "<table border=\"1\" class=\"dataframe\">\n",
       "  <thead>\n",
       "    <tr style=\"text-align: right;\">\n",
       "      <th></th>\n",
       "      <th>Group</th>\n",
       "      <th>Symptom</th>\n",
       "      <th>Error_Cause</th>\n",
       "      <th>Cause_Details</th>\n",
       "      <th>Error_Class</th>\n",
       "      <th>Discovery</th>\n",
       "      <th>Completion_Note</th>\n",
       "      <th>Action_Taken</th>\n",
       "      <th>Work_Description</th>\n",
       "      <th>Directive</th>\n",
       "      <th>CaseReviewed</th>\n",
       "    </tr>\n",
       "  </thead>\n",
       "  <tbody>\n",
       "    <tr>\n",
       "      <th>404</th>\n",
       "      <td>Starting Air System</td>\n",
       "      <td>Other - Please specify in Action Taken</td>\n",
       "      <td>Other - Please specify in Cause Details</td>\n",
       "      <td>Clients request.</td>\n",
       "      <td>Outside operational parameters</td>\n",
       "      <td>Other</td>\n",
       "      <td>Clients BA bottle compressor installed in ROV ...</td>\n",
       "      <td>Clients BA bottle compressor installed in ROV ...</td>\n",
       "      <td>Request by client to install extra BA bottle c...</td>\n",
       "      <td>Request by client to install extra BA bottle c...</td>\n",
       "      <td>3</td>\n",
       "    </tr>\n",
       "    <tr>\n",
       "      <th>490</th>\n",
       "      <td>Ventilation and Aircondit</td>\n",
       "      <td>Abnormal noise</td>\n",
       "      <td>Wear and Tear</td>\n",
       "      <td>Early failure of bearing</td>\n",
       "      <td>Breakdown</td>\n",
       "      <td>Operational abnormality</td>\n",
       "      <td>See attachements._x000D_\\nIn general, the IFS ...</td>\n",
       "      <td>New bearings installed_x000D_\\nThis task took ...</td>\n",
       "      <td>Bearings to be renewed.Fan is noisy due to bea...</td>\n",
       "      <td>Renewal of FAn bearings</td>\n",
       "      <td>1</td>\n",
       "    </tr>\n",
       "    <tr>\n",
       "      <th>596</th>\n",
       "      <td>Thrusters</td>\n",
       "      <td>Outside operational parameters</td>\n",
       "      <td>Wear and Tear</td>\n",
       "      <td>Wear and Tear</td>\n",
       "      <td>Breakdown</td>\n",
       "      <td>Functional testing</td>\n",
       "      <td>change battery - 2pcs 12V 55Ah</td>\n",
       "      <td>..</td>\n",
       "      <td>did not pass  Capacity Test</td>\n",
       "      <td>did not pass  Capacity Test</td>\n",
       "      <td>1</td>\n",
       "    </tr>\n",
       "    <tr>\n",
       "      <th>759</th>\n",
       "      <td>Sea Water Cooling System</td>\n",
       "      <td>Leakage</td>\n",
       "      <td>Corrosion</td>\n",
       "      <td>poor material choice / material quality.</td>\n",
       "      <td>Breakdown</td>\n",
       "      <td>Operational abnormality</td>\n",
       "      <td>rubber liners noted to be in good order.</td>\n",
       "      <td>inlet and outlet distance rings renewed. _x000...</td>\n",
       "      <td>The Naval brass spacers rings are corroded sev...</td>\n",
       "      <td>Inspect and renew as required SW spacer rings.</td>\n",
       "      <td>1</td>\n",
       "    </tr>\n",
       "    <tr>\n",
       "      <th>874</th>\n",
       "      <td>Deck Cranes</td>\n",
       "      <td>Abnormal noise</td>\n",
       "      <td>Material Fatigue</td>\n",
       "      <td>Damaged belts</td>\n",
       "      <td>Outside operational parameters</td>\n",
       "      <td>Round inspection</td>\n",
       "      <td>AC fan belts found damaged. 2PCE belts replaced</td>\n",
       "      <td>Belts replaced</td>\n",
       "      <td>AC fan belts found damaged. 2PCE belts replaced</td>\n",
       "      <td>AC fan belts found damaged. 2PCE belts replaced</td>\n",
       "      <td>3.1</td>\n",
       "    </tr>\n",
       "  </tbody>\n",
       "</table>\n",
       "</div>"
      ],
      "text/plain": [
       "                         Group                                 Symptom  \\\n",
       "404        Starting Air System  Other - Please specify in Action Taken   \n",
       "490  Ventilation and Aircondit                          Abnormal noise   \n",
       "596                  Thrusters          Outside operational parameters   \n",
       "759   Sea Water Cooling System                                 Leakage   \n",
       "874                Deck Cranes                          Abnormal noise   \n",
       "\n",
       "                                 Error_Cause  \\\n",
       "404  Other - Please specify in Cause Details   \n",
       "490                            Wear and Tear   \n",
       "596                            Wear and Tear   \n",
       "759                                Corrosion   \n",
       "874                         Material Fatigue   \n",
       "\n",
       "                                Cause_Details                     Error_Class  \\\n",
       "404                          Clients request.  Outside operational parameters   \n",
       "490                  Early failure of bearing                       Breakdown   \n",
       "596                             Wear and Tear                       Breakdown   \n",
       "759  poor material choice / material quality.                       Breakdown   \n",
       "874                             Damaged belts  Outside operational parameters   \n",
       "\n",
       "                   Discovery  \\\n",
       "404                    Other   \n",
       "490  Operational abnormality   \n",
       "596       Functional testing   \n",
       "759  Operational abnormality   \n",
       "874         Round inspection   \n",
       "\n",
       "                                       Completion_Note  \\\n",
       "404  Clients BA bottle compressor installed in ROV ...   \n",
       "490  See attachements._x000D_\\nIn general, the IFS ...   \n",
       "596                     change battery - 2pcs 12V 55Ah   \n",
       "759           rubber liners noted to be in good order.   \n",
       "874    AC fan belts found damaged. 2PCE belts replaced   \n",
       "\n",
       "                                          Action_Taken  \\\n",
       "404  Clients BA bottle compressor installed in ROV ...   \n",
       "490  New bearings installed_x000D_\\nThis task took ...   \n",
       "596                                                 ..   \n",
       "759  inlet and outlet distance rings renewed. _x000...   \n",
       "874                                     Belts replaced   \n",
       "\n",
       "                                      Work_Description  \\\n",
       "404  Request by client to install extra BA bottle c...   \n",
       "490  Bearings to be renewed.Fan is noisy due to bea...   \n",
       "596                        did not pass  Capacity Test   \n",
       "759  The Naval brass spacers rings are corroded sev...   \n",
       "874    AC fan belts found damaged. 2PCE belts replaced   \n",
       "\n",
       "                                             Directive CaseReviewed  \n",
       "404  Request by client to install extra BA bottle c...            3  \n",
       "490                            Renewal of FAn bearings            1  \n",
       "596                        did not pass  Capacity Test            1  \n",
       "759     Inspect and renew as required SW spacer rings.            1  \n",
       "874    AC fan belts found damaged. 2PCE belts replaced          3.1  "
      ]
     },
     "metadata": {},
     "output_type": "display_data"
    },
    {
     "name": "stdout",
     "output_type": "stream",
     "text": [
      "(687, 11)\n"
     ]
    }
   ],
   "source": [
    "display(df_filtered.head())\n",
    "print(df_filtered.shape)"
   ]
  },
  {
   "cell_type": "code",
   "execution_count": 10,
   "metadata": {},
   "outputs": [
    {
     "name": "stdout",
     "output_type": "stream",
     "text": [
      "Group\n",
      "Symptom\n",
      "Error_Cause\n",
      "Cause_Details\n",
      "Error_Class\n",
      "Discovery\n",
      "Completion_Note\n",
      "Action_Taken\n",
      "Work_Description\n",
      "Directive\n"
     ]
    }
   ],
   "source": [
    "# TODO: Use a NLP Preprocessing \n",
    "# Encode categorical variables\n",
    "label_encoders = {}\n",
    "for column in feature_columns:\n",
    "    print(column)\n",
    "    le = LabelEncoder()\n",
    "    df_filtered[column] = le.fit_transform(df_filtered[column].astype(str))\n",
    "    label_encoders[column] = le"
   ]
  },
  {
   "cell_type": "code",
   "execution_count": 11,
   "metadata": {},
   "outputs": [],
   "source": [
    "# Encode the target column\n",
    "target_le = LabelEncoder()\n",
    "df_filtered[target_column] = target_le.fit_transform(df_filtered[target_column].astype(str))\n",
    "\n",
    "# Split the data into training and testing sets\n",
    "X = df_filtered[feature_columns]\n",
    "y = df_filtered[target_column]\n",
    "\n",
    "# TODO: Try using a Straified Shuffle Split to make the classes  \n",
    "X_train, X_test, y_train, y_test = train_test_split(X, y, test_size=0.2, random_state=42)"
   ]
  },
  {
   "cell_type": "code",
   "execution_count": 12,
   "metadata": {},
   "outputs": [],
   "source": [
    "# Apply MinMaxScaler\n",
    "scaler = MinMaxScaler()\n",
    "X_train = scaler.fit_transform(X_train)\n",
    "X_test = scaler.transform(X_test)\n"
   ]
  },
  {
   "cell_type": "code",
   "execution_count": 13,
   "metadata": {},
   "outputs": [],
   "source": [
    "mlp_model = MLPClassifier(random_state=42)\n",
    "\n",
    "# Define parameter grid for hyperparameter tuning\n",
    "param_grid = {\n",
    "    'hidden_layer_sizes': [(50, 50), (100,), (100, 50), (100, 100)],\n",
    "    'activation': ['tanh', 'relu'],\n",
    "    'solver': ['adam', 'sgd'],\n",
    "    'alpha': [0.0001, 0.001, 0.01],\n",
    "    'learning_rate': ['constant', 'adaptive'],\n",
    "    'max_iter': [200, 500]\n",
    "}\n"
   ]
  },
  {
   "cell_type": "code",
   "execution_count": 14,
   "metadata": {},
   "outputs": [
    {
     "name": "stdout",
     "output_type": "stream",
     "text": [
      "Fitting 3 folds for each of 192 candidates, totalling 576 fits\n"
     ]
    },
    {
     "name": "stderr",
     "output_type": "stream",
     "text": [
      "c:\\Users\\syeda\\OneDrive\\Documents\\American Bureau of Shipping\\projects\\nlp_risk_prediction\\nlp_env\\Lib\\site-packages\\sklearn\\model_selection\\_split.py:776: UserWarning: The least populated class in y has only 1 members, which is less than n_splits=3.\n",
      "  warnings.warn(\n"
     ]
    },
    {
     "name": "stdout",
     "output_type": "stream",
     "text": [
      "Best parameters found:  {'activation': 'relu', 'alpha': 0.001, 'hidden_layer_sizes': (100, 50), 'learning_rate': 'constant', 'max_iter': 500, 'solver': 'adam'}\n",
      "Best cross-validation accuracy:  0.517304189435337\n",
      "Test accuracy:  0.5507246376811594\n"
     ]
    },
    {
     "name": "stderr",
     "output_type": "stream",
     "text": [
      "c:\\Users\\syeda\\OneDrive\\Documents\\American Bureau of Shipping\\projects\\nlp_risk_prediction\\nlp_env\\Lib\\site-packages\\sklearn\\neural_network\\_multilayer_perceptron.py:690: ConvergenceWarning: Stochastic Optimizer: Maximum iterations (500) reached and the optimization hasn't converged yet.\n",
      "  warnings.warn(\n"
     ]
    }
   ],
   "source": [
    "# Initialize GridSearchCV\n",
    "grid_search = GridSearchCV(mlp_model, param_grid, n_jobs=-1, cv=3, scoring='accuracy', verbose=2)\n",
    "\n",
    "# Fit GridSearchCV\n",
    "grid_search.fit(X_train, y_train)\n",
    "\n",
    "# Print the best parameters and score\n",
    "print(\"Best parameters found: \", grid_search.best_params_)\n",
    "print(\"Best cross-validation accuracy: \", grid_search.best_score_)\n",
    "\n",
    "# Evaluate on the test set\n",
    "best_model = grid_search.best_estimator_\n",
    "y_pred = best_model.predict(X_test)\n",
    "test_accuracy = accuracy_score(y_test, y_pred)\n",
    "print(\"Test accuracy: \", test_accuracy)\n"
   ]
  },
  {
   "cell_type": "code",
   "execution_count": 15,
   "metadata": {},
   "outputs": [
    {
     "name": "stderr",
     "output_type": "stream",
     "text": [
      "c:\\Users\\syeda\\OneDrive\\Documents\\American Bureau of Shipping\\projects\\nlp_risk_prediction\\nlp_env\\Lib\\site-packages\\sklearn\\model_selection\\_split.py:776: UserWarning: The least populated class in y has only 1 members, which is less than n_splits=5.\n",
      "  warnings.warn(\n"
     ]
    },
    {
     "data": {
      "image/png": "[encoded data removed]",
      "text/plain": [
       "<Figure size 640x480 with 1 Axes>"
      ]
     },
     "metadata": {},
     "output_type": "display_data"
    }
   ],
   "source": [
    "# Plot learning curve\n",
    "train_sizes, train_scores, test_scores = learning_curve(best_model, X, y, cv=5, n_jobs=-1, train_sizes=np.linspace(0.1, 1.0, 10), scoring='accuracy')\n",
    "\n",
    "train_scores_mean = np.mean(train_scores, axis=1)\n",
    "train_scores_std = np.std(train_scores, axis=1)\n",
    "test_scores_mean = np.mean(test_scores, axis=1)\n",
    "test_scores_std = np.std(test_scores, axis=1)\n",
    "\n",
    "plt.figure()\n",
    "plt.title(\"Learning Curve (MLPClassifier)\")\n",
    "plt.xlabel(\"Training examples\")\n",
    "plt.ylabel(\"Score\")\n",
    "plt.grid()\n",
    "\n",
    "plt.fill_between(train_sizes, train_scores_mean - train_scores_std, train_scores_mean + train_scores_std, alpha=0.1, color=\"r\")\n",
    "plt.fill_between(train_sizes, test_scores_mean - test_scores_std, test_scores_mean + test_scores_std, alpha=0.1, color=\"g\")\n",
    "plt.plot(train_sizes, train_scores_mean, 'o-', color=\"r\", label=\"Training score\")\n",
    "plt.plot(train_sizes, test_scores_mean, 'o-', color=\"g\", label=\"Cross-validation score\")\n",
    "\n",
    "plt.legend(loc=\"best\")\n",
    "plt.show()"
   ]
  }
 ],
 "metadata": {
  "kernelspec": {
   "display_name": "nlp_env",
   "language": "python",
   "name": "python3"
  },
  "language_info": {
   "codemirror_mode": {
    "name": "ipython",
    "version": 3
   },
   "file_extension": ".py",
   "mimetype": "text/x-python",
   "name": "python",
   "nbconvert_exporter": "python",
   "pygments_lexer": "ipython3",
   "version": "3.11.8"
  }
 },
 "nbformat": 4,
 "nbformat_minor": 2
}
