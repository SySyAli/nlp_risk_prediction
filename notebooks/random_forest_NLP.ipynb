{
 "cells": [
  {
   "cell_type": "code",
   "execution_count": 35,
   "metadata": {},
   "outputs": [],
   "source": [
    "import pandas as pd\n",
    "from sklearn.model_selection import train_test_split\n",
    "from sklearn.ensemble import RandomForestClassifier\n",
    "from sklearn.metrics import classification_report, accuracy_score\n",
    "from sklearn.preprocessing import LabelEncoder\n",
    "from sklearn.model_selection import GridSearchCV\n",
    "import matplotlib.pyplot as plt"
   ]
  },
  {
   "cell_type": "code",
   "execution_count": 36,
   "metadata": {},
   "outputs": [
    {
     "name": "stderr",
     "output_type": "stream",
     "text": [
      "c:\\Users\\SyeAli\\cs_projects\\nlp_risk_prediction\\nlp_env\\Lib\\site-packages\\openpyxl\\worksheet\\_reader.py:329: UserWarning: Data Validation extension is not supported and will be removed\n",
      "  warn(msg)\n",
      "c:\\Users\\SyeAli\\cs_projects\\nlp_risk_prediction\\nlp_env\\Lib\\site-packages\\openpyxl\\worksheet\\_reader.py:329: UserWarning: Data Validation extension is not supported and will be removed\n",
      "  warn(msg)\n"
     ]
    }
   ],
   "source": [
    "# import the excel spreadsheets in the data folder\n",
    "installer_df = pd.read_excel('../data/Installer.xlsx')\n",
    "involver_df = pd.read_excel('../data/Involver.xlsx')"
   ]
  },
  {
   "cell_type": "code",
   "execution_count": 37,
   "metadata": {},
   "outputs": [
    {
     "data": {
      "text/plain": [
       "(32192, 49)"
      ]
     },
     "execution_count": 37,
     "metadata": {},
     "output_type": "execute_result"
    }
   ],
   "source": [
    "installer_df.shape"
   ]
  },
  {
   "cell_type": "code",
   "execution_count": 38,
   "metadata": {},
   "outputs": [
    {
     "data": {
      "text/plain": [
       "(31935, 49)"
      ]
     },
     "execution_count": 38,
     "metadata": {},
     "output_type": "execute_result"
    }
   ],
   "source": [
    "involver_df.shape"
   ]
  },
  {
   "cell_type": "code",
   "execution_count": 39,
   "metadata": {},
   "outputs": [
    {
     "data": {
      "text/plain": [
       "(['Site',\n",
       "  'Vessel_Name',\n",
       "  'Wo_No',\n",
       "  'Fault_Rep_Flag',\n",
       "  'Pm_No',\n",
       "  'Cf$_Pm_Interval',\n",
       "  'Standard_Job',\n",
       "  'Creation_Date',\n",
       "  'Due_Date',\n",
       "  'Actual_Finish',\n",
       "  'Object_Id',\n",
       "  'Object',\n",
       "  'Maker_Name',\n",
       "  'Group',\n",
       "  'Object_Type',\n",
       "  'Type',\n",
       "  'Criticality',\n",
       "  'Department',\n",
       "  'Work_Type',\n",
       "  'Running_Hour_Total',\n",
       "  'Symptom',\n",
       "  'Error_Cause',\n",
       "  'Cause_Details',\n",
       "  'Error_Class',\n",
       "  'Discovery',\n",
       "  'Performed_Action',\n",
       "  'Total_Hours',\n",
       "  'Total_Cost',\n",
       "  'Used_Parts',\n",
       "  'Used_Qty',\n",
       "  'Returned_Parts',\n",
       "  'Returned_Qty',\n",
       "  'CaseReviewed',\n",
       "  'EBSSelection',\n",
       "  'EBSCode',\n",
       "  'EBS1',\n",
       "  'EBS2',\n",
       "  'EBS3',\n",
       "  'EBS4',\n",
       "  'EBS5',\n",
       "  'EBS6',\n",
       "  'EBS7',\n",
       "  'DamageType',\n",
       "  'DamageDescriptor',\n",
       "  'Directive',\n",
       "  'Job_Description',\n",
       "  'Work_Description',\n",
       "  'Completion_Note',\n",
       "  'Action_Taken'],\n",
       " 49)"
      ]
     },
     "execution_count": 39,
     "metadata": {},
     "output_type": "execute_result"
    }
   ],
   "source": [
    "common_columns = installer_df.columns.intersection(involver_df.columns).tolist()\n",
    "common_columns, len(common_columns)"
   ]
  },
  {
   "cell_type": "code",
   "execution_count": 40,
   "metadata": {},
   "outputs": [],
   "source": [
    "# Attempt to merge using a subset of key columns\n",
    "merge_on_columns = ['Site', 'Vessel_Name', 'Wo_No']\n",
    "\n",
    "df = pd.concat([installer_df, involver_df], axis=0)\n"
   ]
  },
  {
   "cell_type": "code",
   "execution_count": 41,
   "metadata": {},
   "outputs": [
    {
     "data": {
      "text/plain": [
       "(64127, 49)"
      ]
     },
     "execution_count": 41,
     "metadata": {},
     "output_type": "execute_result"
    }
   ],
   "source": [
    "df.shape"
   ]
  },
  {
   "cell_type": "code",
   "execution_count": 42,
   "metadata": {},
   "outputs": [],
   "source": [
    "feature_columns = ['Group', 'Symptom', 'Error_Cause', 'Cause_Details', 'Error_Class', 'Discovery', 'Completion_Note', 'Action_Taken', 'Work_Description', 'Directive']\n",
    "target_column = 'CaseReviewed'"
   ]
  },
  {
   "cell_type": "code",
   "execution_count": 43,
   "metadata": {},
   "outputs": [
    {
     "name": "stdout",
     "output_type": "stream",
     "text": [
      "Group\n",
      "Symptom\n",
      "Error_Cause\n",
      "Cause_Details\n",
      "Error_Class\n",
      "Discovery\n",
      "Completion_Note\n",
      "Action_Taken\n",
      "Work_Description\n",
      "Directive\n"
     ]
    }
   ],
   "source": [
    "# Filter the dataframe for the selected columns\n",
    "df_filtered = df[feature_columns + [target_column]].dropna()\n",
    "\n",
    "# Encode categorical variables\n",
    "label_encoders = {}\n",
    "for column in feature_columns:\n",
    "    print(column)\n",
    "    le = LabelEncoder()\n",
    "    df_filtered[column] = le.fit_transform(df_filtered[column].astype(str))\n",
    "    label_encoders[column] = le\n"
   ]
  },
  {
   "cell_type": "code",
   "execution_count": 44,
   "metadata": {},
   "outputs": [],
   "source": [
    "\n",
    "# Encode the target column\n",
    "target_le = LabelEncoder()\n",
    "df_filtered[target_column] = target_le.fit_transform(df_filtered[target_column].astype(str))\n",
    "\n",
    "# Split the data into training and testing sets\n",
    "X = df_filtered[feature_columns]\n",
    "y = df_filtered[target_column]\n",
    "\n",
    "X_train, X_test, y_train, y_test = train_test_split(X, y, test_size=0.2, random_state=42)\n",
    "\n",
    "# Initialize the RandomForestClassifier\n",
    "rf_model = RandomForestClassifier(random_state=42)\n",
    "\n",
    "# Define the parameter grid for GridSearchCV\n",
    "param_grid = {\n",
    "    'n_estimators': [100, 200, 300],\n",
    "    'max_depth': [None, 10, 20, 30],\n",
    "    'min_samples_split': [2, 5, 10],\n",
    "    'min_samples_leaf': [1, 2, 4],\n",
    "    'bootstrap': [True, False]\n",
    "}"
   ]
  },
  {
   "cell_type": "code",
   "execution_count": 45,
   "metadata": {},
   "outputs": [
    {
     "name": "stdout",
     "output_type": "stream",
     "text": [
      "Fitting 3 folds for each of 216 candidates, totalling 648 fits\n"
     ]
    },
    {
     "name": "stderr",
     "output_type": "stream",
     "text": [
      "c:\\Users\\SyeAli\\cs_projects\\nlp_risk_prediction\\nlp_env\\Lib\\site-packages\\sklearn\\model_selection\\_split.py:776: UserWarning: The least populated class in y has only 1 members, which is less than n_splits=3.\n",
      "  warnings.warn(\n"
     ]
    }
   ],
   "source": [
    "\n",
    "# Initialize the GridSearchCV object\n",
    "grid_search = GridSearchCV(estimator=rf_model, param_grid=param_grid, \n",
    "                           cv=3, n_jobs=-1, verbose=2, scoring='accuracy')\n",
    "\n",
    "# Fit the grid search to the data\n",
    "grid_search.fit(X_train, y_train)\n",
    "\n",
    "# Get the best parameters and the best model\n",
    "best_params = grid_search.best_params_\n",
    "best_rf_model = grid_search.best_estimator_\n",
    "\n",
    "# Make predictions with the best model\n",
    "best_y_pred = best_rf_model.predict(X_test)\n",
    "\n",
    "# Define common_classes based on unique classes in y_train and y_test\n",
    "common_classes = list(set(y_train.unique()).intersection(set(y_test.unique())))\n",
    "common_classes.sort()  # Ensure the classes are sorted for consistency\n"
   ]
  },
  {
   "cell_type": "code",
   "execution_count": 46,
   "metadata": {},
   "outputs": [
    {
     "name": "stdout",
     "output_type": "stream",
     "text": [
      "Best Parameters: {'bootstrap': True, 'max_depth': 20, 'min_samples_leaf': 1, 'min_samples_split': 2, 'n_estimators': 300}\n",
      "Best Accuracy: 0.6521739130434783\n",
      "Classification Report:\n",
      "               precision    recall  f1-score   support\n",
      "\n",
      "           1       0.76      0.66      0.71        59\n",
      "         1.0       0.65      0.62      0.64        24\n",
      "           3       0.33      0.27      0.30        11\n",
      "         3.1       0.61      0.75      0.67        44\n",
      "\n",
      "   micro avg       0.66      0.65      0.65       138\n",
      "   macro avg       0.59      0.58      0.58       138\n",
      "weighted avg       0.66      0.65      0.65       138\n",
      "\n"
     ]
    }
   ],
   "source": [
    "# Evaluate the best model with the filtered common classes\n",
    "best_accuracy = accuracy_score(y_test, best_y_pred)\n",
    "best_report = classification_report(y_test, best_y_pred, labels=common_classes, target_names=target_le.inverse_transform(common_classes))\n",
    "\n",
    "print(\"Best Parameters:\", best_params)\n",
    "print(\"Best Accuracy:\", best_accuracy)\n",
    "print(\"Classification Report:\\n\", best_report)"
   ]
  },
  {
   "cell_type": "code",
   "execution_count": 47,
   "metadata": {},
   "outputs": [
    {
     "data": {
      "text/plain": [
       "<Axes: title={'center': 'Feature Importance'}>"
      ]
     },
     "execution_count": 47,
     "metadata": {},
     "output_type": "execute_result"
    },
    {
     "data": {
      "image/png": "[encoded data removed]",
      "text/plain": [
       "<Figure size 640x480 with 1 Axes>"
      ]
     },
     "metadata": {},
     "output_type": "display_data"
    }
   ],
   "source": [
    "# visualize parameter importance\n",
    "importances = best_rf_model.feature_importances_\n",
    "importances_df = pd.DataFrame(importances, index=feature_columns, columns=['Importance'])\n",
    "importances_df = importances_df.sort_values('Importance', ascending=False)\n",
    "importances_df.plot(kind='bar', title='Feature Importance', legend=False)"
   ]
  }
 ],
 "metadata": {
  "kernelspec": {
   "display_name": "nlp_env",
   "language": "python",
   "name": "python3"
  },
  "language_info": {
   "codemirror_mode": {
    "name": "ipython",
    "version": 3
   },
   "file_extension": ".py",
   "mimetype": "text/x-python",
   "name": "python",
   "nbconvert_exporter": "python",
   "pygments_lexer": "ipython3",
   "version": "3.12.2"
  }
 },
 "nbformat": 4,
 "nbformat_minor": 2
}
