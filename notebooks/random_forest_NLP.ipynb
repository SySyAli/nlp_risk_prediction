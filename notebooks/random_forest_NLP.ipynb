{
 "cells": [
  {
   "cell_type": "code",
   "execution_count": 23,
   "metadata": {},
   "outputs": [],
   "source": [
    "import pandas as pd"
   ]
  },
  {
   "cell_type": "code",
   "execution_count": 24,
   "metadata": {},
   "outputs": [
    {
     "name": "stderr",
     "output_type": "stream",
     "text": [
      "c:\\Users\\SyeAli\\cs_projects\\nlp_risk_prediction\\nlp_env\\Lib\\site-packages\\openpyxl\\worksheet\\_reader.py:329: UserWarning: Data Validation extension is not supported and will be removed\n",
      "  warn(msg)\n",
      "c:\\Users\\SyeAli\\cs_projects\\nlp_risk_prediction\\nlp_env\\Lib\\site-packages\\openpyxl\\worksheet\\_reader.py:329: UserWarning: Data Validation extension is not supported and will be removed\n",
      "  warn(msg)\n"
     ]
    }
   ],
   "source": [
    "# import the excel spreadsheets in the data folder\n",
    "installer_df = pd.read_excel('../data/Installer.xlsx')\n",
    "involver_df = pd.read_excel('../data/Involver.xlsx')"
   ]
  },
  {
   "cell_type": "code",
   "execution_count": 25,
   "metadata": {},
   "outputs": [
    {
     "data": {
      "text/plain": [
       "(32192, 49)"
      ]
     },
     "execution_count": 25,
     "metadata": {},
     "output_type": "execute_result"
    }
   ],
   "source": [
    "installer_df.shape"
   ]
  },
  {
   "cell_type": "code",
   "execution_count": 26,
   "metadata": {},
   "outputs": [
    {
     "data": {
      "text/plain": [
       "(31935, 49)"
      ]
     },
     "execution_count": 26,
     "metadata": {},
     "output_type": "execute_result"
    }
   ],
   "source": [
    "involver_df.shape"
   ]
  },
  {
   "cell_type": "code",
   "execution_count": 27,
   "metadata": {},
   "outputs": [
    {
     "data": {
      "text/plain": [
       "(['Site',\n",
       "  'Vessel_Name',\n",
       "  'Wo_No',\n",
       "  'Fault_Rep_Flag',\n",
       "  'Pm_No',\n",
       "  'Cf$_Pm_Interval',\n",
       "  'Standard_Job',\n",
       "  'Creation_Date',\n",
       "  'Due_Date',\n",
       "  'Actual_Finish',\n",
       "  'Object_Id',\n",
       "  'Object',\n",
       "  'Maker_Name',\n",
       "  'Group',\n",
       "  'Object_Type',\n",
       "  'Type',\n",
       "  'Criticality',\n",
       "  'Department',\n",
       "  'Work_Type',\n",
       "  'Running_Hour_Total',\n",
       "  'Symptom',\n",
       "  'Error_Cause',\n",
       "  'Cause_Details',\n",
       "  'Error_Class',\n",
       "  'Discovery',\n",
       "  'Performed_Action',\n",
       "  'Total_Hours',\n",
       "  'Total_Cost',\n",
       "  'Used_Parts',\n",
       "  'Used_Qty',\n",
       "  'Returned_Parts',\n",
       "  'Returned_Qty',\n",
       "  'CaseReviewed',\n",
       "  'EBSSelection',\n",
       "  'EBSCode',\n",
       "  'EBS1',\n",
       "  'EBS2',\n",
       "  'EBS3',\n",
       "  'EBS4',\n",
       "  'EBS5',\n",
       "  'EBS6',\n",
       "  'EBS7',\n",
       "  'DamageType',\n",
       "  'DamageDescriptor',\n",
       "  'Directive',\n",
       "  'Job_Description',\n",
       "  'Work_Description',\n",
       "  'Completion_Note',\n",
       "  'Action_Taken'],\n",
       " 49)"
      ]
     },
     "execution_count": 27,
     "metadata": {},
     "output_type": "execute_result"
    }
   ],
   "source": [
    "common_columns = installer_df.columns.intersection(involver_df.columns).tolist()\n",
    "common_columns, len(common_columns)"
   ]
  },
  {
   "cell_type": "code",
   "execution_count": 28,
   "metadata": {},
   "outputs": [],
   "source": [
    "# Attempt to merge using a subset of key columns\n",
    "merge_on_columns = ['Site', 'Vessel_Name', 'Wo_No']\n",
    "\n",
    "df = pd.concat([installer_df, involver_df], axis=0)\n"
   ]
  },
  {
   "cell_type": "code",
   "execution_count": 29,
   "metadata": {},
   "outputs": [
    {
     "data": {
      "text/plain": [
       "(64127, 49)"
      ]
     },
     "execution_count": 29,
     "metadata": {},
     "output_type": "execute_result"
    }
   ],
   "source": [
    "df.shape"
   ]
  },
  {
   "cell_type": "code",
   "execution_count": 30,
   "metadata": {},
   "outputs": [],
   "source": [
    "feature_columns = ['Group', 'Symptom', 'Error_Cause', 'Cause_Details', 'Error_Cause', 'Cause_Details', 'Error_Class', 'Discovery', 'Completion_Note', 'Action_Taken', 'Work_Description', 'Directive']\n",
    "target_column = 'CaseReviewed'"
   ]
  },
  {
   "cell_type": "code",
   "execution_count": null,
   "metadata": {},
   "outputs": [],
   "source": []
  }
 ],
 "metadata": {
  "kernelspec": {
   "display_name": "nlp_env",
   "language": "python",
   "name": "python3"
  },
  "language_info": {
   "codemirror_mode": {
    "name": "ipython",
    "version": 3
   },
   "file_extension": ".py",
   "mimetype": "text/x-python",
   "name": "python",
   "nbconvert_exporter": "python",
   "pygments_lexer": "ipython3",
   "version": "3.12.2"
  }
 },
 "nbformat": 4,
 "nbformat_minor": 2
}
