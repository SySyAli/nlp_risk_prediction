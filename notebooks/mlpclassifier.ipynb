{
 "cells": [
  {
   "cell_type": "code",
   "execution_count": 6,
   "metadata": {},
   "outputs": [],
   "source": [
    "import pandas as pd\n",
    "import numpy as np\n",
    "import matplotlib.pyplot as plt\n",
    "\n",
    "from sklearn.feature_extraction.text import TfidfVectorizer\n",
    "from sklearn.pipeline import Pipeline\n",
    "from sklearn.neural_network import MLPClassifier\n",
    "from sklearn.compose import ColumnTransformer\n",
    "from sklearn.preprocessing import MaxAbsScaler, LabelEncoder\n",
    "from sklearn.model_selection import train_test_split, GridSearchCV\n",
    "from sklearn.metrics import accuracy_score, classification_report"
   ]
  },
  {
   "cell_type": "code",
   "execution_count": 7,
   "metadata": {},
   "outputs": [
    {
     "name": "stderr",
     "output_type": "stream",
     "text": [
      "c:\\Users\\syeda\\OneDrive\\Documents\\American Bureau of Shipping\\projects\\nlp_risk_prediction\\nlp_env\\Lib\\site-packages\\openpyxl\\worksheet\\_reader.py:329: UserWarning: Data Validation extension is not supported and will be removed\n",
      "  warn(msg)\n",
      "c:\\Users\\syeda\\OneDrive\\Documents\\American Bureau of Shipping\\projects\\nlp_risk_prediction\\nlp_env\\Lib\\site-packages\\openpyxl\\worksheet\\_reader.py:329: UserWarning: Data Validation extension is not supported and will be removed\n",
      "  warn(msg)\n"
     ]
    }
   ],
   "source": [
    "# Import the excel spreadsheets in the data folder\n",
    "installer_df = pd.read_excel('../data/Installer.xlsx')\n",
    "involver_df = pd.read_excel('../data/Involver.xlsx')"
   ]
  },
  {
   "cell_type": "code",
   "execution_count": 8,
   "metadata": {},
   "outputs": [],
   "source": [
    "# Attempt to merge using a subset of key columns\n",
    "merge_on_columns = ['Site', 'Vessel_Name', 'Wo_No']\n",
    "\n",
    "df = pd.concat([installer_df, involver_df], axis=0)\n",
    "\n",
    "# feature_columns = ['Object', 'Group', 'Symptom', 'Error_Cause', 'Cause_Details', 'Error_Class', 'Discovery', 'Completion_Note', 'Action_Taken', 'Work_Description', 'Directive']\n",
    "feature_columns = ['Object', 'Group', 'Object_Type','Completion_Note', 'Work_Description', 'Directive']\n",
    "# TODO: Change this to ESB1\n",
    "target_column = 'EBS1'\n",
    "\n",
    "# Filter the dataframe for the selected columns\n",
    "df = df[feature_columns + [target_column]].dropna()"
   ]
  },
  {
   "cell_type": "code",
   "execution_count": 9,
   "metadata": {},
   "outputs": [
    {
     "data": {
      "text/plain": [
       "(dtype('int64'),\n",
       " array([24,  2, 13,  5, 25, 12, 10,  4, 20,  8, 21, 28, 29,  9, 15, 17,  1,\n",
       "         3, 18, 19, 26, 11,  0,  7, 22, 23, 14,  6, 27, 16]))"
      ]
     },
     "execution_count": 9,
     "metadata": {},
     "output_type": "execute_result"
    }
   ],
   "source": [
    "# Convert the target column to ids \n",
    "# Encode the target column\n",
    "label_encoder = LabelEncoder()\n",
    "df[target_column] = label_encoder.fit_transform(df[target_column].astype(str))\n",
    "df[target_column].dtype, df[target_column].unique()"
   ]
  },
  {
   "cell_type": "code",
   "execution_count": 10,
   "metadata": {},
   "outputs": [
    {
     "name": "stdout",
     "output_type": "stream",
     "text": [
      "Training samples:  (487, 6) Testing samples:  (122, 6)\n",
      "Training labels:  (487,) Testing labels:  (122,)\n",
      "Fitting 3 folds for each of 192 candidates, totalling 576 fits\n"
     ]
    },
    {
     "name": "stderr",
     "output_type": "stream",
     "text": [
      "c:\\Users\\syeda\\OneDrive\\Documents\\American Bureau of Shipping\\projects\\nlp_risk_prediction\\nlp_env\\Lib\\site-packages\\sklearn\\model_selection\\_split.py:776: UserWarning: The least populated class in y has only 1 members, which is less than n_splits=3.\n",
      "  warnings.warn(\n"
     ]
    },
    {
     "name": "stdout",
     "output_type": "stream",
     "text": [
      "Iteration 1, loss = 3.29090223\n",
      "Iteration 2, loss = 2.63550054\n",
      "Iteration 3, loss = 2.01381516\n",
      "Iteration 4, loss = 1.45977350\n",
      "Iteration 5, loss = 1.03378075\n",
      "Iteration 6, loss = 0.76243218\n",
      "Iteration 7, loss = 0.59184599\n",
      "Iteration 8, loss = 0.47523223\n",
      "Iteration 9, loss = 0.38697306\n",
      "Iteration 10, loss = 0.31829765\n",
      "Iteration 11, loss = 0.26171520\n",
      "Iteration 12, loss = 0.21962776\n",
      "Iteration 13, loss = 0.18503225\n",
      "Iteration 14, loss = 0.15854861\n",
      "Iteration 15, loss = 0.13677594\n",
      "Iteration 16, loss = 0.11974292\n",
      "Iteration 17, loss = 0.10476395\n",
      "Iteration 18, loss = 0.09318586\n",
      "Iteration 19, loss = 0.08351195\n",
      "Iteration 20, loss = 0.07583540\n",
      "Iteration 21, loss = 0.06949467\n",
      "Iteration 22, loss = 0.06424960\n",
      "Iteration 23, loss = 0.05969528\n",
      "Iteration 24, loss = 0.05598054\n",
      "Iteration 25, loss = 0.05246742\n",
      "Iteration 26, loss = 0.04961931\n",
      "Iteration 27, loss = 0.04698490\n",
      "Iteration 28, loss = 0.04483797\n",
      "Iteration 29, loss = 0.04286384\n",
      "Iteration 30, loss = 0.04099403\n",
      "Iteration 31, loss = 0.03941241\n",
      "Iteration 32, loss = 0.03808641\n",
      "Iteration 33, loss = 0.03679205\n",
      "Iteration 34, loss = 0.03559802\n",
      "Iteration 35, loss = 0.03461949\n",
      "Iteration 36, loss = 0.03369022\n",
      "Iteration 37, loss = 0.03279506\n",
      "Iteration 38, loss = 0.03203816\n",
      "Iteration 39, loss = 0.03133013\n",
      "Iteration 40, loss = 0.03066689\n",
      "Iteration 41, loss = 0.03007323\n",
      "Iteration 42, loss = 0.02953490\n",
      "Iteration 43, loss = 0.02896639\n",
      "Iteration 44, loss = 0.02847886\n",
      "Iteration 45, loss = 0.02799839\n",
      "Iteration 46, loss = 0.02754530\n",
      "Iteration 47, loss = 0.02714172\n",
      "Iteration 48, loss = 0.02674863\n",
      "Iteration 49, loss = 0.02638744\n",
      "Iteration 50, loss = 0.02605325\n",
      "Iteration 51, loss = 0.02571031\n",
      "Iteration 52, loss = 0.02539746\n",
      "Iteration 53, loss = 0.02509356\n",
      "Iteration 54, loss = 0.02481805\n",
      "Iteration 55, loss = 0.02453630\n",
      "Iteration 56, loss = 0.02427692\n",
      "Iteration 57, loss = 0.02403174\n",
      "Iteration 58, loss = 0.02379868\n",
      "Iteration 59, loss = 0.02357103\n",
      "Iteration 60, loss = 0.02335759\n",
      "Iteration 61, loss = 0.02315884\n",
      "Iteration 62, loss = 0.02296753\n",
      "Iteration 63, loss = 0.02276773\n",
      "Iteration 64, loss = 0.02259269\n",
      "Iteration 65, loss = 0.02241243\n",
      "Iteration 66, loss = 0.02225062\n",
      "Iteration 67, loss = 0.02208470\n",
      "Iteration 68, loss = 0.02193059\n",
      "Iteration 69, loss = 0.02176436\n",
      "Iteration 70, loss = 0.02160613\n",
      "Iteration 71, loss = 0.02145890\n",
      "Iteration 72, loss = 0.02131842\n",
      "Iteration 73, loss = 0.02118262\n",
      "Iteration 74, loss = 0.02104922\n",
      "Iteration 75, loss = 0.02092319\n",
      "Iteration 76, loss = 0.02079472\n",
      "Iteration 77, loss = 0.02067097\n",
      "Iteration 78, loss = 0.02055415\n",
      "Iteration 79, loss = 0.02044374\n",
      "Iteration 80, loss = 0.02032216\n",
      "Iteration 81, loss = 0.02021256\n",
      "Iteration 82, loss = 0.02011297\n",
      "Iteration 83, loss = 0.02000055\n",
      "Iteration 84, loss = 0.01989739\n",
      "Iteration 85, loss = 0.01979784\n",
      "Iteration 86, loss = 0.01969400\n",
      "Iteration 87, loss = 0.01960385\n",
      "Iteration 88, loss = 0.01950617\n",
      "Iteration 89, loss = 0.01941336\n",
      "Iteration 90, loss = 0.01932572\n",
      "Iteration 91, loss = 0.01923679\n",
      "Iteration 92, loss = 0.01914942\n",
      "Iteration 93, loss = 0.01906626\n",
      "Iteration 94, loss = 0.01898676\n",
      "Iteration 95, loss = 0.01889996\n",
      "Iteration 96, loss = 0.01882097\n",
      "Iteration 97, loss = 0.01874109\n",
      "Training loss did not improve more than tol=0.000100 for 10 consecutive epochs. Stopping.\n",
      "Best parameters found:  {'classifier__activation': 'tanh', 'classifier__alpha': 0.01, 'classifier__hidden_layer_sizes': (100, 100), 'classifier__learning_rate': 'constant', 'classifier__max_iter': 200, 'classifier__solver': 'adam'}\n",
      "Best cross-validation accuracy:  0.8726930748062309\n"
     ]
    }
   ],
   "source": [
    "# Define the TF-IDF vectorizer for text columns\n",
    "preprocessor = ColumnTransformer(\n",
    "    transformers=[\n",
    "        (col, TfidfVectorizer(), col) for col in feature_columns\n",
    "    ], remainder='drop'  # Dropping non-specified columns, though all columns are specified here\n",
    ")\n",
    "\n",
    "# Create a pipeline with preprocessor, scaler, and MLPClassifier\n",
    "pipeline = Pipeline([\n",
    "    ('preprocessor', preprocessor),\n",
    "    ('scaler', MaxAbsScaler()),  # Apply scaler after TF-IDF transformation\n",
    "    ('classifier', MLPClassifier(random_state=42, verbose=True))\n",
    "])\n",
    "\n",
    "# Define parameter grid for hyperparameter tuning\n",
    "param_grid = {\n",
    "    'classifier__hidden_layer_sizes': [(50, 50), (100,), (100, 50), (100, 100)],\n",
    "    'classifier__activation': ['tanh', 'relu'],\n",
    "    'classifier__solver': ['adam', 'sgd'],\n",
    "    'classifier__alpha': [0.0001, 0.001, 0.01],\n",
    "    'classifier__learning_rate': ['constant', 'adaptive'],\n",
    "    'classifier__max_iter': [200, 500]\n",
    "}\n",
    "\n",
    "# Split the data into training and testing sets\n",
    "X = df[feature_columns]\n",
    "y = df[target_column]\n",
    "\n",
    "# Check if the length of X and y are consistent\n",
    "assert len(X) == len(y), \"Mismatch in the number of samples between X and y\"\n",
    "\n",
    "X_train, X_test, y_train, y_test = train_test_split(X, y, test_size=0.2, random_state=42)\n",
    "\n",
    "print(\"Training samples: \", X_train.shape, \"Testing samples: \", X_test.shape)\n",
    "print(\"Training labels: \", y_train.shape, \"Testing labels: \", y_test.shape)\n",
    "\n",
    "# Initialize GridSearchCV\n",
    "grid_search = GridSearchCV(pipeline, param_grid, n_jobs=-1, cv=3, scoring='accuracy', verbose=2)\n",
    "\n",
    "# Fit GridSearchCV\n",
    "grid_search.fit(X_train, y_train)\n",
    "\n",
    "# Print the best parameters and score\n",
    "print(\"Best parameters found: \", grid_search.best_params_)\n",
    "print(\"Best cross-validation accuracy: \", grid_search.best_score_)"
   ]
  },
  {
   "cell_type": "code",
   "execution_count": 11,
   "metadata": {},
   "outputs": [
    {
     "name": "stdout",
     "output_type": "stream",
     "text": [
      "Test accuracy:  0.8524590163934426\n",
      "Classification Report:\n",
      "              precision    recall  f1-score   support\n",
      "\n",
      "           0       0.00      0.00      0.00         1\n",
      "           1       0.00      0.00      0.00         1\n",
      "           2       0.96      1.00      0.98        25\n",
      "           3       0.00      0.00      0.00         1\n",
      "           4       0.60      1.00      0.75         3\n",
      "           5       0.73      0.96      0.83        25\n",
      "           7       1.00      1.00      1.00         1\n",
      "           8       0.50      1.00      0.67         2\n",
      "           9       1.00      0.33      0.50         3\n",
      "          10       1.00      0.67      0.80         3\n",
      "          12       1.00      1.00      1.00         2\n",
      "          13       1.00      0.93      0.96        29\n",
      "          14       1.00      1.00      1.00         1\n",
      "          16       0.00      0.00      0.00         1\n",
      "          17       1.00      0.20      0.33         5\n",
      "          20       0.33      1.00      0.50         1\n",
      "          21       1.00      1.00      1.00         4\n",
      "          22       1.00      1.00      1.00         1\n",
      "          23       0.00      0.00      0.00         0\n",
      "          25       1.00      0.50      0.67         2\n",
      "          26       1.00      1.00      1.00         4\n",
      "          27       1.00      1.00      1.00         2\n",
      "          28       0.67      1.00      0.80         2\n",
      "          29       0.00      0.00      0.00         3\n",
      "\n",
      "    accuracy                           0.85       122\n",
      "   macro avg       0.66      0.65      0.62       122\n",
      "weighted avg       0.85      0.85      0.83       122\n",
      "\n"
     ]
    },
    {
     "name": "stderr",
     "output_type": "stream",
     "text": [
      "c:\\Users\\syeda\\OneDrive\\Documents\\American Bureau of Shipping\\projects\\nlp_risk_prediction\\nlp_env\\Lib\\site-packages\\sklearn\\metrics\\_classification.py:1531: UndefinedMetricWarning: Precision is ill-defined and being set to 0.0 in labels with no predicted samples. Use `zero_division` parameter to control this behavior.\n",
      "  _warn_prf(average, modifier, f\"{metric.capitalize()} is\", len(result))\n",
      "c:\\Users\\syeda\\OneDrive\\Documents\\American Bureau of Shipping\\projects\\nlp_risk_prediction\\nlp_env\\Lib\\site-packages\\sklearn\\metrics\\_classification.py:1531: UndefinedMetricWarning: Recall is ill-defined and being set to 0.0 in labels with no true samples. Use `zero_division` parameter to control this behavior.\n",
      "  _warn_prf(average, modifier, f\"{metric.capitalize()} is\", len(result))\n",
      "c:\\Users\\syeda\\OneDrive\\Documents\\American Bureau of Shipping\\projects\\nlp_risk_prediction\\nlp_env\\Lib\\site-packages\\sklearn\\metrics\\_classification.py:1531: UndefinedMetricWarning: Precision is ill-defined and being set to 0.0 in labels with no predicted samples. Use `zero_division` parameter to control this behavior.\n",
      "  _warn_prf(average, modifier, f\"{metric.capitalize()} is\", len(result))\n",
      "c:\\Users\\syeda\\OneDrive\\Documents\\American Bureau of Shipping\\projects\\nlp_risk_prediction\\nlp_env\\Lib\\site-packages\\sklearn\\metrics\\_classification.py:1531: UndefinedMetricWarning: Recall is ill-defined and being set to 0.0 in labels with no true samples. Use `zero_division` parameter to control this behavior.\n",
      "  _warn_prf(average, modifier, f\"{metric.capitalize()} is\", len(result))\n",
      "c:\\Users\\syeda\\OneDrive\\Documents\\American Bureau of Shipping\\projects\\nlp_risk_prediction\\nlp_env\\Lib\\site-packages\\sklearn\\metrics\\_classification.py:1531: UndefinedMetricWarning: Precision is ill-defined and being set to 0.0 in labels with no predicted samples. Use `zero_division` parameter to control this behavior.\n",
      "  _warn_prf(average, modifier, f\"{metric.capitalize()} is\", len(result))\n",
      "c:\\Users\\syeda\\OneDrive\\Documents\\American Bureau of Shipping\\projects\\nlp_risk_prediction\\nlp_env\\Lib\\site-packages\\sklearn\\metrics\\_classification.py:1531: UndefinedMetricWarning: Recall is ill-defined and being set to 0.0 in labels with no true samples. Use `zero_division` parameter to control this behavior.\n",
      "  _warn_prf(average, modifier, f\"{metric.capitalize()} is\", len(result))\n"
     ]
    },
    {
     "data": {
      "image/png": "[encoded data removed]",
      "text/plain": [
       "<Figure size 640x480 with 1 Axes>"
      ]
     },
     "metadata": {},
     "output_type": "display_data"
    }
   ],
   "source": [
    "# Evaluate on the test set\n",
    "best_model = grid_search.best_estimator_\n",
    "y_pred = best_model.predict(X_test)\n",
    "test_accuracy = accuracy_score(y_test, y_pred)\n",
    "print(\"Test accuracy: \", test_accuracy)\n",
    "\n",
    "# Print the classification report\n",
    "print(\"Classification Report:\")\n",
    "print(classification_report(y_test, y_pred))\n",
    "\n",
    "# Plot the loss curve\n",
    "classifier = best_model.named_steps['classifier']\n",
    "plt.plot(classifier.loss_curve_)\n",
    "plt.title('Loss Curve')\n",
    "plt.xlabel('Iterations')\n",
    "plt.ylabel('Loss')\n",
    "plt.grid()\n",
    "plt.show()"
   ]
  }
 ],
 "metadata": {
  "kernelspec": {
   "display_name": "nlp_env",
   "language": "python",
   "name": "python3"
  },
  "language_info": {
   "codemirror_mode": {
    "name": "ipython",
    "version": 3
   },
   "file_extension": ".py",
   "mimetype": "text/x-python",
   "name": "python",
   "nbconvert_exporter": "python",
   "pygments_lexer": "ipython3",
   "version": "3.11.8"
  }
 },
 "nbformat": 4,
 "nbformat_minor": 2
}
